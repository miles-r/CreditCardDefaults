{
 "cells": [
  {
   "cell_type": "markdown",
   "metadata": {},
   "source": [
    "## Credit Card Default Prediction \n",
    "\n",
    "This notebook is a case study to examine methods for forecasting financial impacts of credit card defaults. The goal is to model a simple simulation where we have an unbalanced dataset, do not have sufficient attributes to attain high classification accuracy, and there is large variance in the variables of interest. In such a case, how can we most accurately project the financial outcomes of this dataset. \n",
    "\n",
    "### Methodology\n",
    "\n",
    "The best method from those explored in the `CCDefaults_Classification` notebook is used to generate predictions which are here used to compare two methods for projecting a simplified model of cash flow for the following month. \n",
    "\n",
    "In the first method, each customer is assigned to a quantile and the median balance for that quantile is used to estimate financial impacts.\n",
    "\n",
    "The second method uses a hurdle type approach in which a regression will be used to estimate the amount defaulted for each customer. \n",
    "\n",
    "The 'truth' that both models will be compared to is determined by\n",
    "\n",
    "$$Receivables = \\sum{} \\mathbb{I}(D_i = 0) * Balance_{oct} * (1 + Interest)$$\n",
    "\n",
    "$$Revenue = \\sum{} \\mathbb{I}(D_i = 0) * Payment$$\n",
    "\n",
    "$$Losses = \\sum{} \\mathbb{I}(D_i = 1) * Bill_i $$\n",
    "\n",
    "where **I**(D) is the indicator function and D is 1 if customer i defaulted and 0 if they did not. \n",
    "\n",
    "Payment, Bill, and Balance are estimated for each customer by averaging the respective variable from the previous three months. No interest information is present in the dataset, so a value of 15% is used for all customers.\n",
    "\n",
    "\n",
    "### Data\n",
    "The dataset used in this analysis is the [Default of Credit Card Clients](https://archive.ics.uci.edu/ml/datasets/default+of+credit+card+clients) dataset provided by Yeh, I. C., & Lien, C. H. (2009) via the [UCI Machine Learning Repository](https://archive.ics.uci.edu/ml/index.php). \n",
    "\n",
    "It contains demographic information, a 6-month payment history, and an indication of default in the following month for each record. "
   ]
  },
  {
   "cell_type": "code",
   "execution_count": 2,
   "metadata": {},
   "outputs": [],
   "source": [
    "import pandas as pd\n",
    "import numpy as np\n",
    "import statsmodels as sm\n",
    "\n",
    "from sklearn.ensemble import GradientBoostingRegressor\n",
    "from sklearn.linear_model import GammaRegressor"
   ]
  },
  {
   "cell_type": "code",
   "execution_count": null,
   "metadata": {},
   "outputs": [],
   "source": [
    "ccdefaults = pd.read_parquet(\"CCDefaults.parquet\")"
   ]
  },
  {
   "cell_type": "code",
   "execution_count": null,
   "metadata": {},
   "outputs": [],
   "source": [
    "X = ccdefaults.drop(columns = [\"default_oct\", \"avg_bill_3\", \"percentile_bin\"])"
   ]
  },
  {
   "cell_type": "code",
   "execution_count": null,
   "metadata": {},
   "outputs": [],
   "source": [
    "X_train, X_test, y_train, y_test = train_test_split(X, y, test_size = 0.50)"
   ]
  },
  {
   "cell_type": "code",
   "execution_count": null,
   "metadata": {},
   "outputs": [],
   "source": [
    "y_train.value_counts()"
   ]
  },
  {
   "cell_type": "code",
   "execution_count": null,
   "metadata": {},
   "outputs": [],
   "source": [
    "y_test.value_counts()"
   ]
  },
  {
   "cell_type": "code",
   "execution_count": null,
   "metadata": {},
   "outputs": [],
   "source": [
    "scaler = StandardScaler()\n",
    "\n",
    "scaler.fit(X_train)\n",
    "X_train_scaled = scaler.transform(X_train)\n",
    "X_test_scaled = scaler.transform(X_test)"
   ]
  },
  {
   "cell_type": "code",
   "execution_count": null,
   "metadata": {},
   "outputs": [],
   "source": []
  },
  {
   "cell_type": "markdown",
   "metadata": {},
   "source": [
    "Just when you thought it was over, it wasn't! In a world where decision boundaries are hazy ...\n",
    "\n",
    "[Credit Card Defaults 3: Tomek Link's Awakening - In theaters Christmas 2021](CCDefaults_imblearn)"
   ]
  }
 ],
 "metadata": {
  "kernelspec": {
   "display_name": "Python 3",
   "language": "python",
   "name": "python3"
  },
  "language_info": {
   "codemirror_mode": {
    "name": "ipython",
    "version": 3
   },
   "file_extension": ".py",
   "mimetype": "text/x-python",
   "name": "python",
   "nbconvert_exporter": "python",
   "pygments_lexer": "ipython3",
   "version": "3.8.5"
  }
 },
 "nbformat": 4,
 "nbformat_minor": 4
}
